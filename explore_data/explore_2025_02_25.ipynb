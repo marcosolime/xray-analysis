{
 "cells": [
  {
   "cell_type": "markdown",
   "metadata": {},
   "source": [
    "Here we inspect the dataset sent by Ishihara-san on 25th of February, 2025. Here is a little description of the dataset:\n",
    "\n",
    "Inside the SSD, the mtr folder contains X-ray absorption coefficient images acquired at each rotational angle (raw data, image size: 4096 pixels wide × 2304 pixels high, 32-bit real). The first image in the sequence corresponds to the -90-degree data, while the 1800th image corresponds to the +90-degree data. The images are acquired at 0.1-degree intervals in between.\n",
    "\n",
    "The rec folder contains reconstructed data obtained using a general reconstruction method called filtered back projection, based on the mtr data mentioned above."
   ]
  },
  {
   "cell_type": "code",
   "execution_count": 10,
   "metadata": {},
   "outputs": [],
   "source": [
    "import numpy as np\n",
    "import glob\n",
    "import os\n",
    "import cv2 \n",
    "from tqdm import tqdm\n",
    "\n",
    "# Folder containing raw projection files\n",
    "folder_path = '/mnt/8T_HDD1/Workspace/2025_02_25_data/mtr'\n",
    "original_shape = (2304, 4096)\n",
    "num_projections = 1800\n",
    "\n",
    "# Check if the directory exists\n",
    "if not os.path.exists(folder_path):\n",
    "    raise FileNotFoundError(f\"Directory not found: {folder_path}\")"
   ]
  },
  {
   "cell_type": "code",
   "execution_count": 11,
   "metadata": {},
   "outputs": [
    {
     "name": "stdout",
     "output_type": "stream",
     "text": [
      "Resizing images to: (256, 455)\n"
     ]
    }
   ],
   "source": [
    "# Define new resized dimensions while keeping aspect ratio\n",
    "new_height = 256  # You can change this based on your needs\n",
    "aspect_ratio = original_shape[1] / original_shape[0]  # 4096 / 2304 = 1.78\n",
    "new_width = int(new_height * aspect_ratio)  # Compute new width\n",
    "\n",
    "new_shape = (new_height, new_width)  # New resized shape\n",
    "print(f\"Resizing images to: {new_shape}\")"
   ]
  },
  {
   "cell_type": "code",
   "execution_count": 13,
   "metadata": {},
   "outputs": [
    {
     "name": "stderr",
     "output_type": "stream",
     "text": [
      "  0%|          | 0/1800 [00:00<?, ?it/s]"
     ]
    },
    {
     "name": "stderr",
     "output_type": "stream",
     "text": [
      "100%|██████████| 1800/1800 [04:24<00:00,  6.79it/s]\n"
     ]
    },
    {
     "name": "stdout",
     "output_type": "stream",
     "text": [
      "Loaded resized projections shape: (1800, 256, 455)\n"
     ]
    }
   ],
   "source": [
    "# Get all raw files and sort them\n",
    "raw_files = sorted(glob.glob(os.path.join(folder_path, \"*.raw\")))\n",
    "\n",
    "# Ensure we have the expected number of files\n",
    "assert len(raw_files) == num_projections, f\"Expected {num_projections} files, but found {len(raw_files)}\"\n",
    "\n",
    "# Load all projections, resize while keeping aspect ratio\n",
    "projections = np.array([\n",
    "    cv2.resize(\n",
    "        np.fromfile(f, dtype=np.float32).reshape(original_shape), \n",
    "        (new_width, new_height),  # OpenCV uses (width, height)\n",
    "        interpolation=cv2.INTER_AREA\n",
    "    ) for f in tqdm(raw_files)\n",
    "])\n",
    "\n",
    "print(\"Loaded resized projections shape:\", projections.shape)\n"
   ]
  },
  {
   "cell_type": "markdown",
   "metadata": {},
   "source": [
    "Now we inspect a little bit the projections"
   ]
  },
  {
   "cell_type": "code",
   "execution_count": 15,
   "metadata": {},
   "outputs": [
    {
     "name": "stderr",
     "output_type": "stream",
     "text": [
      "100%|██████████| 180/180 [00:06<00:00, 27.39it/s]"
     ]
    },
    {
     "name": "stdout",
     "output_type": "stream",
     "text": [
      "Saved 180 images in '../data/2025_02_25'\n"
     ]
    },
    {
     "name": "stderr",
     "output_type": "stream",
     "text": [
      "\n"
     ]
    }
   ],
   "source": [
    "import matplotlib.pyplot as plt\n",
    "\n",
    "save_folder = \"../data/2025_02_25\"\n",
    "\n",
    "# Save every 10th view\n",
    "for i in tqdm(range(0, projections.shape[0], 10)):  # Step size = 10\n",
    "    save_path = os.path.join(save_folder, f\"view_{i:04d}.png\")  # Format: view_0000.png, view_0010.png, etc.\n",
    "    plt.imsave(save_path, projections[i], cmap=\"gray\")  # Save as grayscale PNG\n",
    "\n",
    "print(f\"Saved {projections.shape[0] // 10} images in '{save_folder}'\")\n"
   ]
  },
  {
   "cell_type": "code",
   "execution_count": 19,
   "metadata": {},
   "outputs": [
    {
     "data": {
      "image/png": "[encoded data removed]",
      "text/plain": [
       "<Figure size 800x400 with 1 Axes>"
      ]
     },
     "metadata": {},
     "output_type": "display_data"
    }
   ],
   "source": [
    "def draw_histogram(data):\n",
    "    pixel_values = data.flatten()\n",
    "    plt.figure(figsize=(8, 4))\n",
    "    plt.hist(pixel_values, bins=256, color='blue', alpha=0.7, density=True)  # Normalized histogram\n",
    "    plt.xlabel(\"Pixel Intensity\")\n",
    "    plt.ylabel(\"Frequency\")\n",
    "    plt.title(\"Histogram of Projection Intensities\")\n",
    "    plt.grid(True)\n",
    "    plt.show()\n",
    "\n",
    "draw_histogram(projections)"
   ]
  },
  {
   "cell_type": "markdown",
   "metadata": {},
   "source": [
    "Now we inspect the reconstructed volume they gave us using filtered backward projection (FBP).\n",
    "The volume consists of 2304 slices with size 4096; so the final shape is 2304x4096x4096."
   ]
  },
  {
   "cell_type": "code",
   "execution_count": 36,
   "metadata": {},
   "outputs": [
    {
     "name": "stderr",
     "output_type": "stream",
     "text": [
      "100%|██████████| 2304/2304 [15:53<00:00,  2.42it/s]\n"
     ]
    },
    {
     "data": {
      "text/plain": [
       "(2304, 256, 256)"
      ]
     },
     "execution_count": 36,
     "metadata": {},
     "output_type": "execute_result"
    }
   ],
   "source": [
    "import os\n",
    "import numpy as np\n",
    "from PIL import Image\n",
    "from natsort import natsorted\n",
    "\n",
    "folder_path = '/mnt/8T_HDD1/Workspace/2025_02_25_data/rec'\n",
    "tif_files = natsorted([f for f in os.listdir(folder_path) if f.endswith('.tif')])\n",
    "\n",
    "volume = [''] * len(tif_files)\n",
    "for idx, filename in enumerate(tqdm(tif_files)):\n",
    "    img = Image.open(os.path.join(folder_path, filename))\n",
    "    img_resized = img.resize((256, 256))\n",
    "    volume[idx] = np.array(img_resized)\n",
    "\n",
    "volume_array = np.stack(volume, axis=0)\n",
    "volume_array.shape"
   ]
  },
  {
   "cell_type": "code",
   "execution_count": 34,
   "metadata": {},
   "outputs": [
    {
     "data": {
      "text/plain": [
       "(4096, 4096)"
      ]
     },
     "execution_count": 34,
     "metadata": {},
     "output_type": "execute_result"
    }
   ],
   "source": [
    "volume[1].shape"
   ]
  }
 ],
 "metadata": {
  "kernelspec": {
   "display_name": "nerf",
   "language": "python",
   "name": "python3"
  },
  "language_info": {
   "codemirror_mode": {
    "name": "ipython",
    "version": 3
   },
   "file_extension": ".py",
   "mimetype": "text/x-python",
   "name": "python",
   "nbconvert_exporter": "python",
   "pygments_lexer": "ipython3",
   "version": "3.8.0"
  }
 },
 "nbformat": 4,
 "nbformat_minor": 2
}
