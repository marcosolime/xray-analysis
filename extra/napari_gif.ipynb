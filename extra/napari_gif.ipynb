{
 "cells": [
  {
   "cell_type": "markdown",
   "metadata": {},
   "source": [
    "A Python script that generates a GIF from a numpy npy volume."
   ]
  },
  {
   "cell_type": "code",
   "execution_count": 4,
   "metadata": {},
   "outputs": [],
   "source": [
    "import numpy as np\n",
    "import napari\n",
    "import os\n",
    "from PIL import Image\n",
    "\n",
    "# small # 1.2 # 2.0\n",
    "data_paths = [\n",
    "    # '/Users/kaminyou/Desktop/pa_output_volumes/output_volumes_smallhand/volume_756_ori.npy',\n",
    "    # '/Users/kaminyou/Desktop/pa_output_volumes/output_volumes_smallhand/volume_756_conv5.npy',\n",
    "    #'/Users/kaminyou/Desktop/pa_output_volumes/output_volumes_smallhand/volume_756_median5.npy',\n",
    "    #'/Users/kaminyou/Desktop/pa_output_volumes/output_volumes_smallhand/volume_756_wiener5.npy',\n",
    "    #'../data/battery/4_battery_clean_crops/saves/4-means.npy',\n",
    "    '../data/z-volumes/r2gaus/180_avg/180_avg_r2gaus_enh.npy'\n",
    "    # '/Users/kaminyou/Desktop/pa_output_volumes/output_volumes_smallhand/volume_756_bm4d.npy',\n",
    "    # '/Users/kaminyou/Desktop/pa_output_volumes/output_volumes_smallhand/volume_756_n2v.npy',\n",
    "    # '/Users/kaminyou/Desktop/pa_output_volumes/output_volumes_smallhand/volume_756_liao.npy',\n",
    "    # '/Users/kaminyou/Desktop/pa_output_volumes/output_volumes_smallhand/volume_756_3d_ca5_ci1_samG_denTT_lrc1_rand0_50000_20000.npy',\n",
    "]\n",
    "\n",
    "# large # 1.0 # 1.1\n",
    "# data_paths = [\n",
    "#     '/Users/kaminyou/Desktop/pa_output_volumes/output_volumes_largehand/hand_volume_756_ori.npy',\n",
    "#     '/Users/kaminyou/Desktop/pa_output_volumes/output_volumes_largehand/hand_volume_756_conv3.npy',\n",
    "#     '/Users/kaminyou/Desktop/pa_output_volumes/output_volumes_largehand/hand_volume_756_bm4d.npy',\n",
    "#     '/Users/kaminyou/Desktop/pa_output_volumes/output_volumes_largehand/hand_volume_756_n2v.npy',\n",
    "#     '/Users/kaminyou/Desktop/pa_output_volumes/output_volumes_largehand/hand_volume_756_liao.npy',\n",
    "#     '/Users/kaminyou/Desktop/pa_output_volumes/output_volumes_largehand/volume_756_3d_ca3_ci1_samG_denTT_lrc1_rand0_50000_70000.npy',\n",
    "# ]\n",
    "\n",
    "# forearm-1 # 0.6 # 0.6\n",
    "# data_paths = [\n",
    "#     '/Users/kaminyou/Desktop/pa_output_volumes/forearm-1-volume-756-08/forearm-1-volume-756-08.npy',\n",
    "#     '/Users/kaminyou/Desktop/pa_output_volumes/forearm-1-volume-756-08/forearm-1-volume-756-08_cov4.npy',\n",
    "#     '/Users/kaminyou/Desktop/pa_output_volumes/forearm-1-volume-756-08/forearm-1-volume-756-08_bm4d.npy',\n",
    "#     '/Users/kaminyou/Desktop/pa_output_volumes/forearm-1-volume-756-08/forearm-1-volume-756-08_n2v.npy',\n",
    "#     '/Users/kaminyou/Desktop/pa_output_volumes/forearm-1-volume-756-08/forearm-1-volume-756-08_ca4_ci1_samG_denTT_infT_lrc1_rand0_50000_100000.npy',\n",
    "# ]\n",
    "\n",
    "# forearm-2 # 0.6 # 0.6\n",
    "# data_paths = [\n",
    "#     '/Users/kaminyou/Desktop/pa_output_volumes/forearm-2-volume-756-08/forearm-2-volume-756-08.npy',\n",
    "#     '/Users/kaminyou/Desktop/pa_output_volumes/forearm-2-volume-756-08/forearm-2-volume-756-08_cov4.npy',\n",
    "#     '/Users/kaminyou/Desktop/pa_output_volumes/forearm-2-volume-756-08/forearm-2-volume-756-08_bm4d.npy',\n",
    "#     '/Users/kaminyou/Desktop/pa_output_volumes/forearm-2-volume-756-08/forearm-2-volume-756-08_n2v.npy',\n",
    "#     '/Users/kaminyou/Desktop/pa_output_volumes/forearm-2-volume-756-08/forearm-2-volume-756-08_ca4_ci1_samG_denTT_infT_lrc1_rand0_70000_80000.npy',\n",
    "# ]\n",
    "\n",
    "# set up background volume\n",
    "#background = '../data/battery/4_battery_clean_crops/exp_1/r2gaus/volume_180_enh.npy'\n",
    "background = '../data/z-volumes/saxnerf/180_no_avg/mini/180_no_avg_saxnerf_cropped.npy'\n",
    "background_volume = np.load(background)\n",
    "\n",
    "start = None #None # 72 # 90\n",
    "end = 120\n",
    "zoom = 5.0\n",
    "for data_path in data_paths:\n",
    "    #basename = os.path.basename(data_path).rsplit('.', 1)[0]\n",
    "    basename = 'out'\n",
    "\n",
    "    if start is not None:\n",
    "        image_3d = np.load(data_path)[start:end]\n",
    "    else:\n",
    "        image_3d = np.load(data_path)\n",
    "\n",
    "    viewer = napari.Viewer(ndisplay=3, show=True)\n",
    "    viewer.add_image(background_volume, name=basename, colormap='twilight_shifted')\n",
    "    #viewer.add_labels(image_3d, name=basename, opacity=0.9)\n",
    "\n",
    "    #viewer.camera.angles = (60, 0, 0)  # Rotations: z=30°, x=45°\n",
    "    viewer.camera.zoom = zoom  # Adjust zoom level if needed\n",
    "    #viewer.camera.angles = (10, -35, 140)\n",
    "\n",
    "    pillow_images = []\n",
    "    for i in range(0, 360, 4):\n",
    "        viewer.camera.angles = (90, 20, i)\n",
    "        x = viewer.screenshot(canvas_only=True)\n",
    "        image = Image.fromarray(x[:, :, :3])\n",
    "        original_width, original_height = image.size\n",
    "\n",
    "        # Calculate the new dimensions (scaling by 0.5)\n",
    "        new_width = int(original_width * 0.5)\n",
    "        new_height = int(original_height * 0.5)\n",
    "\n",
    "        # Resize the image while maintaining the aspect ratio\n",
    "        image = image.resize((new_width, new_height))\n",
    "        pillow_images.append(image)\n",
    "        # image.save(\"/Users/kaminyou/Desktop/x.png\")\n",
    "\n",
    "    if start is None:\n",
    "        #output_name = f'/Users/kaminyou/Desktop/Meeting_NII/videos/{basename}.gif'\n",
    "        #output_name = f'../data/battery/4_battery_clean_crops/saves/{basename}.gif'\n",
    "        output_name = f'../data/z-volumes/saxnerf/180_no_avg/mini/{basename}.gif'\n",
    "    else:\n",
    "        #output_name = f'/Users/kaminyou/Desktop/Meeting_NII/videos/{basename}_{start}-{end}.gif'\n",
    "        output_name = f'../data/battery/4_battery_clean_crops/saves/{basename}_{start}-{end}.gif'\n",
    "\n",
    "    pillow_images[0].save(\n",
    "        # \"/Users/kaminyou/Desktop/animated.gif\",\n",
    "        output_name,\n",
    "        save_all=True,\n",
    "        append_images=pillow_images[1:],\n",
    "        duration=150,  # Duration between frames in milliseconds\n",
    "        loop=0         # Loop forever (set to 1 for single loop)\n",
    "    )\n",
    "\n",
    "    viewer.close()\n",
    "    # napari.run()"
   ]
  },
  {
   "cell_type": "markdown",
   "metadata": {},
   "source": [
    "Now we create a slideshow of each 2D slice and save it as GIF."
   ]
  },
  {
   "cell_type": "code",
   "execution_count": 52,
   "metadata": {},
   "outputs": [
    {
     "name": "stderr",
     "output_type": "stream",
     "text": [
      "100%|██████████| 256/256 [00:39<00:00,  6.50it/s]"
     ]
    },
    {
     "name": "stdout",
     "output_type": "stream",
     "text": [
      "Saved.\n"
     ]
    },
    {
     "name": "stderr",
     "output_type": "stream",
     "text": [
      "\n"
     ]
    }
   ],
   "source": [
    "import numpy as np\n",
    "import napari\n",
    "import os\n",
    "from PIL import Image\n",
    "from tqdm import tqdm\n",
    "\n",
    "output_folder = '../data/battery/4_battery_clean_crops/saves/slices/'\n",
    "\n",
    "background = '../data/battery/4_battery_clean_crops/exp_1/saxnerf/volume_180.npy'\n",
    "#foreground = '../data/battery/4_battery_clean_crops/saves/4-means.npy'\n",
    "\n",
    "background_volume = np.load(background)\n",
    "#foreground_volume = np.load(foreground)\n",
    "\n",
    "viewer = napari.Viewer()\n",
    "viewer.add_image(background_volume, name='3D Image', colormap='twilight_shifted')\n",
    "#viewer.add_labels(foreground_volume, name='3D Labels', opacity=0.9)\n",
    "\n",
    "scaling_factor = 0.5\n",
    "\n",
    "# Function to scale down an image\n",
    "def scale_down_image(image, factor):\n",
    "    pil_image = Image.fromarray(image)\n",
    "    new_size = (\n",
    "        int(pil_image.width * factor),\n",
    "        int(pil_image.height * factor),\n",
    "    )\n",
    "    return np.array(pil_image.resize(new_size, Image.Resampling.LANCZOS))  # Use LANCZOS for high-quality downsampling\n",
    "\n",
    "# Loop through slices and save images\n",
    "for i in tqdm(range(background_volume.shape[0])):\n",
    "    viewer.dims.set_point(0, i)  # Set the current slice\n",
    "    screenshot = viewer.screenshot(canvas_only=True)\n",
    "    resized_screenshot = scale_down_image(screenshot, scaling_factor)\n",
    "    screenshot_path = os.path.join(output_folder, f'slice_{i:03d}.png')\n",
    "    napari.utils.io.imsave(screenshot_path, resized_screenshot)\n",
    "print(f'Saved.')"
   ]
  },
  {
   "cell_type": "code",
   "execution_count": 53,
   "metadata": {},
   "outputs": [
    {
     "name": "stderr",
     "output_type": "stream",
     "text": [
      "100%|██████████| 256/256 [00:03<00:00, 79.17it/s]\n"
     ]
    },
    {
     "name": "stdout",
     "output_type": "stream",
     "text": [
      "GIF saved as ../data/battery/4_battery_clean_crops/saves/3d_slices_animation.gif\n"
     ]
    }
   ],
   "source": [
    "import imageio.v2 as imageio\n",
    "\n",
    "# Load saved images and create a GIF\n",
    "images = []\n",
    "for i in tqdm(range(background_volume.shape[0])):\n",
    "    img_path = os.path.join(output_folder, f'slice_{i:03d}.png')\n",
    "    images.append(imageio.imread(img_path))\n",
    "\n",
    "# Save the images as an animated GIF\n",
    "output_gif = '../data/battery/4_battery_clean_crops/saves/3d_slices_animation.gif'\n",
    "imageio.mimsave(output_gif, images, duration=0.1, loop=0)  # duration = time per frame in seconds\n",
    "\n",
    "print(f'GIF saved as {output_gif}')"
   ]
  }
 ],
 "metadata": {
  "kernelspec": {
   "display_name": "nerf",
   "language": "python",
   "name": "python3"
  },
  "language_info": {
   "codemirror_mode": {
    "name": "ipython",
    "version": 3
   },
   "file_extension": ".py",
   "mimetype": "text/x-python",
   "name": "python",
   "nbconvert_exporter": "python",
   "pygments_lexer": "ipython3",
   "version": "3.8.0"
  }
 },
 "nbformat": 4,
 "nbformat_minor": 2
}
