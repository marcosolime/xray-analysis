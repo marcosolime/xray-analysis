{
 "cells": [
  {
   "cell_type": "code",
   "execution_count": 17,
   "metadata": {},
   "outputs": [],
   "source": [
    "import napari\n",
    "import numpy as np\n",
    "import imageio\n",
    "\n",
    "# Load the volume\n",
    "#volume = np.load(\"../data/tesi_mat/exp_2/case_2/qualitative/21.npy\")  # Replace with your actual file\n",
    "volume = np.load(\"../data/id_volumes/id_38.npy\")"
   ]
  },
  {
   "cell_type": "markdown",
   "metadata": {},
   "source": [
    "Swap axes only for R2Gaus, and not FBP"
   ]
  },
  {
   "cell_type": "code",
   "execution_count": 18,
   "metadata": {},
   "outputs": [],
   "source": [
    "# Swap axes\n",
    "volume = np.swapaxes(volume, 0, 1)\n",
    "volume = np.swapaxes(volume, 0, 2) # shape: (256, 256, 256)\n",
    "\n",
    "# Invert projections\n",
    "volume = volume[::-1, :, :]\n",
    "\n",
    "# Rotate counterclockwise 90 degrees\n",
    "volume = np.rot90(volume, k=1, axes=(1, 2))\n",
    "\n",
    "# Flip along vertical axis\n",
    "volume = volume[:, :, ::-1]"
   ]
  },
  {
   "cell_type": "code",
   "execution_count": 19,
   "metadata": {},
   "outputs": [
    {
     "data": {
      "text/plain": [
       "(256, 160, 160)"
      ]
     },
     "execution_count": 19,
     "metadata": {},
     "output_type": "execute_result"
    }
   ],
   "source": [
    "# crop central portion\n",
    "center = [dim // 2 for dim in volume.shape] # center coordinates\n",
    "radius = 128\n",
    "angle = np.pi/4\n",
    "margin = 10\n",
    "\n",
    "side = 2 * radius * np.cos(angle)\n",
    "\n",
    "offset_depth = 128\n",
    "offset_height = int(side / 2)\n",
    "offset_width = int(side / 2)\n",
    "\n",
    "cropped_volume = volume[\n",
    "    center[0] - offset_depth: center[0] + offset_depth,\n",
    "    center[1] - offset_height + margin: center[1] + offset_height - margin,\n",
    "    center[2] - offset_width + margin: center[2] + offset_width - margin,\n",
    "]\n",
    "cropped_volume.shape"
   ]
  },
  {
   "cell_type": "code",
   "execution_count": 20,
   "metadata": {},
   "outputs": [
    {
     "data": {
      "text/plain": [
       "(256, 160, 160)"
      ]
     },
     "execution_count": 20,
     "metadata": {},
     "output_type": "execute_result"
    }
   ],
   "source": [
    "cropped_volume = cropped_volume[::-1, :, :]\n",
    "cropped_volume.shape"
   ]
  },
  {
   "cell_type": "code",
   "execution_count": 21,
   "metadata": {},
   "outputs": [],
   "source": [
    "# enhance intensities\n",
    "import numpy as np\n",
    "import matplotlib.pyplot as plt\n",
    "import numpy as np\n",
    "from skimage import exposure\n",
    "\n",
    "def enhance_volume(volume, percetile_left, percentile_right, gamma):\n",
    "    \"\"\"\n",
    "    Enhance the blobs in a 3D volume by normalizing, applying contrast stretching, \n",
    "    and using gamma correction.\n",
    "    \n",
    "    Parameters:\n",
    "    - volume: numpy array of shape (D, H, W)\n",
    "    - gamma: float, gamma correction factor (>1 to emphasize higher intensities)\n",
    "    \n",
    "    Returns:\n",
    "    - enhanced_volume: numpy array with values between 0 and 1\n",
    "    \"\"\"\n",
    "    # Step 1: Min-Max Normalization\n",
    "    volume_normalized = (volume - np.min(volume)) / (np.max(volume) - np.min(volume))\n",
    "\n",
    "    # Step 2: Contrast Stretching\n",
    "    p1, p2 = np.percentile(volume_normalized, (percetile_left, percentile_right))\n",
    "    volume_contrast = exposure.rescale_intensity(volume_normalized, in_range=(p1, p2))\n",
    "    \n",
    "    # Step 3: Gamma Correction\n",
    "    volume_gamma = exposure.adjust_gamma(volume_contrast, gamma)\n",
    "    \n",
    "    return volume_gamma\n",
    "\n",
    "def adjust_gamma(volume, gamma):\n",
    "    \"\"\"\n",
    "    Normalize volume beteen 0 and 1, and apply gamma correction.\n",
    "    \"\"\"\n",
    "    volume_normalized = (volume - np.min(volume)) / (np.max(volume) - np.min(volume))\n",
    "    volume_gamma = exposure.adjust_gamma(volume_normalized, gamma)\n",
    "    return volume_gamma\n",
    "\n",
    "def plot_histograms(volume_list, bins=50, labels=None, colors=None, alpha=0.5, log=True):\n",
    "    if labels is None:\n",
    "        labels = [f'Volume {i+1}' for i in range(len(volume_list))]\n",
    "    if colors is None:\n",
    "        colors = plt.cm.tab10.colors\n",
    "    plt.figure(figsize=(8, 4))\n",
    "    for i, arr in enumerate(volume_list):\n",
    "        color = colors[i % len(colors)]\n",
    "        plt.hist(arr.flatten(), bins=bins, label=labels[i], color=color, alpha=alpha, edgecolor='black', log=log)\n",
    "    plt.xlabel('Value')\n",
    "    plt.ylabel('Frequency')\n",
    "    plt.title('Histograms of 3D Volumes')\n",
    "    plt.legend()\n",
    "    plt.grid(True)\n",
    "    plt.show()\n",
    "\n",
    "def normalize_to_01(volume):\n",
    "    \"\"\"Normalize a 3D NumPy array to the range [0, 1].\"\"\"\n",
    "    v_min = np.min(volume)\n",
    "    v_max = np.max(volume)\n",
    "    return (volume - v_min) / (v_max - v_min)\n",
    "\n",
    "def clip_and_normalize(volume, min_percentile=1, max_percentile=99):\n",
    "    \"\"\"Clip outliers based on percentiles and normalize to [0, 1].\"\"\"\n",
    "    lower_bound = np.percentile(volume, min_percentile)\n",
    "    upper_bound = np.percentile(volume, max_percentile)\n",
    "    clipped_volume = np.clip(volume, lower_bound, upper_bound)\n",
    "    return normalize_to_01(clipped_volume)\n",
    "\n",
    "\n",
    "cropped_volume_norm = normalize_to_01(cropped_volume)\n",
    "cropped_volume_norm_enh = enhance_volume(cropped_volume_norm, percetile_left=0, percentile_right=100, gamma=1.5)"
   ]
  },
  {
   "cell_type": "code",
   "execution_count": 22,
   "metadata": {},
   "outputs": [],
   "source": [
    "# Start Napari viewer\n",
    "viewer = napari.Viewer(ndisplay=3)\n",
    "\n",
    "# Add volume with \"twilight_shifted\" colormap\n",
    "layer = viewer.add_image(cropped_volume_norm_enh, colormap=\"twilight_shifted\", rendering='mip')\n",
    "\n",
    "# Adjust the camera angle and location\n",
    "viewer.camera.angles = (45, 70, 45)  # Adjust these values (yaw, pitch, roll)\n",
    "viewer.camera.center = (128, 80, 80)  # Adjust for desired location\n",
    "viewer.camera.zoom = 2.8  # Zoom out (lower values mean more zoomed out)\n",
    "\n",
    "# Take a snapshot\n",
    "screenshot = viewer.screenshot(canvas_only=True)  # Get the screenshot as a NumPy array\n",
    "imageio.imwrite(\"../data/snap/snapshot.png\", screenshot)  # Save as an image file\n",
    "\n",
    "#napari.run()  # Keep the viewer open\n",
    "viewer.close()"
   ]
  }
 ],
 "metadata": {
  "kernelspec": {
   "display_name": "nerf",
   "language": "python",
   "name": "python3"
  },
  "language_info": {
   "codemirror_mode": {
    "name": "ipython",
    "version": 3
   },
   "file_extension": ".py",
   "mimetype": "text/x-python",
   "name": "python",
   "nbconvert_exporter": "python",
   "pygments_lexer": "ipython3",
   "version": "3.8.0"
  }
 },
 "nbformat": 4,
 "nbformat_minor": 2
}
