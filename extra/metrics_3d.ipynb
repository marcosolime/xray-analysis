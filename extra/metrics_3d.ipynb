{
 "cells": [
  {
   "cell_type": "markdown",
   "metadata": {},
   "source": [
    "We insert the segmented (cropped) volume (with kmeans) inside a 256x256x256 volumes of zero. We use it to differentiate active signal/background region. Then we calculate the metrics."
   ]
  },
  {
   "cell_type": "code",
   "execution_count": 7,
   "metadata": {},
   "outputs": [
    {
     "name": "stdout",
     "output_type": "stream",
     "text": [
      "binary mask loaded with shape (160, 160, 256)\n"
     ]
    }
   ],
   "source": [
    "import numpy as np\n",
    "\n",
    "binary_mask_path = '../data/battery/4_battery_clean_crops/gt_data/2means_160x160x256.npy'\n",
    "binary_mask = np.load(binary_mask_path)\n",
    "print(f'binary mask loaded with shape {binary_mask.shape}')"
   ]
  },
  {
   "cell_type": "code",
   "execution_count": 3,
   "metadata": {},
   "outputs": [
    {
     "data": {
      "text/plain": [
       "array([False,  True])"
      ]
     },
     "execution_count": 3,
     "metadata": {},
     "output_type": "execute_result"
    }
   ],
   "source": [
    "np.unique(binary_mask)"
   ]
  },
  {
   "cell_type": "code",
   "execution_count": 4,
   "metadata": {},
   "outputs": [],
   "source": [
    "depth, height, width = binary_mask.shape\n",
    "center = (128, 128, 128)"
   ]
  },
  {
   "cell_type": "code",
   "execution_count": 5,
   "metadata": {},
   "outputs": [
    {
     "data": {
      "text/plain": [
       "array([False,  True])"
      ]
     },
     "execution_count": 5,
     "metadata": {},
     "output_type": "execute_result"
    }
   ],
   "source": [
    "gt_volume = np.zeros(shape=(256, 256, 256), dtype=np.bool_)\n",
    "gt_volume[\n",
    "    center[0] - (depth//2) : center[0] + (depth//2),\n",
    "    center[1] - (height//2) : center[1] + (height//2),\n",
    "    :,\n",
    "] = binary_mask\n",
    "\n",
    "np.unique(gt_volume)"
   ]
  },
  {
   "cell_type": "code",
   "execution_count": 6,
   "metadata": {},
   "outputs": [
    {
     "name": "stdout",
     "output_type": "stream",
     "text": [
      "saved.\n"
     ]
    }
   ],
   "source": [
    "np.save('../data/z-bin/2means_256x256x256.npy', gt_volume)\n",
    "print('saved.')"
   ]
  },
  {
   "cell_type": "code",
   "execution_count": 24,
   "metadata": {},
   "outputs": [
    {
     "data": {
      "text/plain": [
       "(256, 256, 256)"
      ]
     },
     "execution_count": 24,
     "metadata": {},
     "output_type": "execute_result"
    }
   ],
   "source": [
    "gt_volume.shape"
   ]
  },
  {
   "cell_type": "markdown",
   "metadata": {},
   "source": [
    "Implement now metrics such as SNR and CNR."
   ]
  },
  {
   "cell_type": "code",
   "execution_count": 15,
   "metadata": {},
   "outputs": [],
   "source": [
    "def compute_snr_cnr(test_volume, gt_volume):\n",
    "    \"\"\"\n",
    "    Compute SNR and CNR for a given test volume and binary ground-truth volume.\n",
    "\n",
    "    Parameters:\n",
    "        test_volume (numpy.ndarray): 3D numpy array representing the test volume.\n",
    "        gt_volume (numpy.ndarray): 3D binary numpy array (1 for foreground, 0 for background).\n",
    "\n",
    "    Returns:\n",
    "        snr (float): Signal-to-Noise Ratio.\n",
    "        cnr (float): Contrast-to-Noise Ratio.\n",
    "    \"\"\"\n",
    "\n",
    "    # Check dimensions\n",
    "    if gt_volume.shape != test_volume.shape:\n",
    "        raise Exception('Error: test volume and ground truth must have same dimensions.')\n",
    "\n",
    "    # Extract the foreground and background regions based on gt_volume\n",
    "    foreground = test_volume[gt_volume == True]\n",
    "    background = test_volume[gt_volume == False]\n",
    "\n",
    "    # Compute the mean of the foreground (signal)\n",
    "    mu_i = np.mean(foreground)\n",
    "\n",
    "    # Compute the mean and standard deviation of the background (noise)\n",
    "    mu_b = np.mean(background)\n",
    "    sigma_b = np.std(background)\n",
    "\n",
    "    # Compute SNR (Signal-to-Noise Ratio)\n",
    "    if sigma_b == 0:\n",
    "        snr = np.inf  # Handle division by zero case\n",
    "    else:\n",
    "        snr = 20 * np.log10(mu_i / sigma_b)\n",
    "\n",
    "    # Compute CNR (Contrast-to-Noise Ratio)\n",
    "    if sigma_b == 0:\n",
    "        cnr = np.inf  # Handle division by zero case\n",
    "    else:\n",
    "        cnr = 20 * np.log10(np.abs(mu_i - mu_b) / sigma_b)\n",
    "\n",
    "    return snr, cnr"
   ]
  },
  {
   "cell_type": "markdown",
   "metadata": {},
   "source": [
    "Experiment 1"
   ]
  },
  {
   "cell_type": "code",
   "execution_count": 16,
   "metadata": {},
   "outputs": [],
   "source": [
    "experiment_dir = '../data/battery/4_battery_clean_crops/'"
   ]
  },
  {
   "cell_type": "code",
   "execution_count": 21,
   "metadata": {},
   "outputs": [
    {
     "name": "stdout",
     "output_type": "stream",
     "text": [
      "6 volumes loaded.\n"
     ]
    }
   ],
   "source": [
    "exp_1_names = [\n",
    "    'exp_1/saxnerf/volume_180.npy',\n",
    "    'exp_1/saxnerf/volume_90.npy',\n",
    "    'exp_1/saxnerf/volume_45.npy',\n",
    "    'exp_1/r2gaus/volume_180.npy',\n",
    "    'exp_1/r2gaus/volume_90.npy',\n",
    "    'exp_1/r2gaus/volume_45.npy'\n",
    "]\n",
    "\n",
    "exp_2_names = [\n",
    "    'exp_2/saxnerf/volume_30_150.npy',\n",
    "    'exp_2/saxnerf/volume_45_135.npy',\n",
    "    'exp_2/saxnerf/volume_60_120.npy',\n",
    "    'exp_2/r2gaus/volume_30_150.npy',\n",
    "    'exp_2/r2gaus/volume_45_135.npy',\n",
    "    'exp_2/r2gaus/volume_60_120.npy',\n",
    "]\n",
    "\n",
    "# Set here the volumes you want to test\n",
    "volume_names = exp_2_names\n",
    "\n",
    "test_volumes = []\n",
    "for volume_name in volume_names:\n",
    "    volume = np.load(experiment_dir + volume_name)\n",
    "    test_volumes.append(volume)\n",
    "\n",
    "print(f'{len(test_volumes)} volumes loaded.')"
   ]
  },
  {
   "cell_type": "code",
   "execution_count": 22,
   "metadata": {},
   "outputs": [
    {
     "name": "stdout",
     "output_type": "stream",
     "text": [
      "+------- exp_2/saxnerf/volume_30_150.npy -------+\n",
      "SNR: 16.59 dB\n",
      "CNR: 10.57 dB\n",
      "\n",
      "+------- exp_2/saxnerf/volume_45_135.npy -------+\n",
      "SNR: 16.44 dB\n",
      "CNR: 9.69 dB\n",
      "\n",
      "+------- exp_2/saxnerf/volume_60_120.npy -------+\n",
      "SNR: 13.94 dB\n",
      "CNR: 7.04 dB\n",
      "\n",
      "+------- exp_2/r2gaus/volume_30_150.npy -------+\n",
      "SNR: 9.04 dB\n",
      "CNR: 1.68 dB\n",
      "\n",
      "+------- exp_2/r2gaus/volume_45_135.npy -------+\n",
      "SNR: 10.75 dB\n",
      "CNR: 3.77 dB\n",
      "\n",
      "+------- exp_2/r2gaus/volume_60_120.npy -------+\n",
      "SNR: 8.42 dB\n",
      "CNR: -0.82 dB\n",
      "\n"
     ]
    }
   ],
   "source": [
    "for id in range(len(volume_names)):\n",
    "    snr, cnr = compute_snr_cnr(test_volumes[id], gt_volume)\n",
    "    print(f'+------- {volume_names[id]} -------+')\n",
    "    print(f\"SNR: {snr:.2f} dB\")\n",
    "    print(f\"CNR: {cnr:.2f} dB\")\n",
    "    print()"
   ]
  },
  {
   "cell_type": "markdown",
   "metadata": {},
   "source": [
    "These are custom video-style metrics but we are lacking reference papers. "
   ]
  },
  {
   "cell_type": "code",
   "execution_count": 1,
   "metadata": {},
   "outputs": [],
   "source": [
    "import numpy as np\n",
    "from skimage.metrics import structural_similarity as ssim\n",
    "\n",
    "def frame_to_frame_difference(volume):\n",
    "    \"\"\"Compute the mean absolute difference between consecutive frames.\"\"\"\n",
    "    diffs = [np.abs(volume[i] - volume[i + 1]).mean() for i in range(len(volume) - 1)]\n",
    "    return np.mean(diffs)\n",
    "\n",
    "def frame_to_frame_mse(volume):\n",
    "    \"\"\"Compute the mean squared error between consecutive frames.\"\"\"\n",
    "    mses = [np.mean((volume[i] - volume[i + 1])**2) for i in range(len(volume) - 1)]\n",
    "    return np.mean(mses)\n",
    "\n",
    "def frame_to_frame_ssim(volume):\n",
    "    \"\"\"Compute the average SSIM between consecutive frames.\"\"\"\n",
    "    ssims = [\n",
    "        ssim(volume[i], volume[i + 1], data_range=volume[i + 1].max() - volume[i + 1].min())\n",
    "        for i in range(len(volume) - 1)\n",
    "    ]\n",
    "    return np.mean(ssims)\n",
    "\n",
    "def total_variation_time(volume):\n",
    "    \"\"\"Compute the total variation across consecutive frames.\"\"\"\n",
    "    tv = np.sum([np.abs(volume[i] - volume[i + 1]).sum() for i in range(len(volume) - 1)])\n",
    "    return tv\n"
   ]
  },
  {
   "cell_type": "code",
   "execution_count": 3,
   "metadata": {},
   "outputs": [
    {
     "name": "stdout",
     "output_type": "stream",
     "text": [
      "Frame-to-Frame Difference: 0.009967527\n",
      "Frame-to-Frame MSE: 0.0003783156\n",
      "Frame-to-Frame SSIM: 0.936653716523297\n",
      "Total Variation in Time: 166574.12\n"
     ]
    }
   ],
   "source": [
    "# Example usage with a 3D numpy volume\n",
    "path = '/home/dlboxadmin/Desktop/code-box/exploration/data/battery/4_battery_clean_crops/exp_3/r2gaus/50_random_projs.npy'\n",
    "\n",
    "volume = np.load(path)  # Replace this with your actual reconstructed volume\n",
    "\n",
    "print(\"Frame-to-Frame Difference:\", frame_to_frame_difference(volume))\n",
    "print(\"Frame-to-Frame MSE:\", frame_to_frame_mse(volume))\n",
    "print(\"Frame-to-Frame SSIM:\", frame_to_frame_ssim(volume))\n",
    "print(\"Total Variation in Time:\", total_variation_time(volume))\n"
   ]
  }
 ],
 "metadata": {
  "kernelspec": {
   "display_name": "nerf",
   "language": "python",
   "name": "python3"
  },
  "language_info": {
   "codemirror_mode": {
    "name": "ipython",
    "version": 3
   },
   "file_extension": ".py",
   "mimetype": "text/x-python",
   "name": "python",
   "nbconvert_exporter": "python",
   "pygments_lexer": "ipython3",
   "version": "3.8.0"
  }
 },
 "nbformat": 4,
 "nbformat_minor": 2
}
