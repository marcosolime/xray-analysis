{
 "cells": [
  {
   "cell_type": "markdown",
   "metadata": {},
   "source": [
    "## SNR and CRN (w/out GT)"
   ]
  },
  {
   "cell_type": "markdown",
   "metadata": {},
   "source": [
    "Import the GT binary mask."
   ]
  },
  {
   "cell_type": "code",
   "execution_count": 38,
   "metadata": {},
   "outputs": [
    {
     "name": "stdout",
     "output_type": "stream",
     "text": [
      "binary mask loaded with shape (256, 160, 160)\n",
      "unique values [False  True]\n"
     ]
    }
   ],
   "source": [
    "import numpy as np\n",
    "\n",
    "binary_mask_path = '../data/id_volumes_pw/gt.npy'\n",
    "binary_mask = np.load(binary_mask_path)\n",
    "print(f'binary mask loaded with shape {binary_mask.shape}')\n",
    "print(f'unique values', np.unique(binary_mask))"
   ]
  },
  {
   "cell_type": "markdown",
   "metadata": {},
   "source": [
    "Import the volume to test, change shape, crop it to 256x160x160."
   ]
  },
  {
   "cell_type": "code",
   "execution_count": 45,
   "metadata": {},
   "outputs": [
    {
     "name": "stdout",
     "output_type": "stream",
     "text": [
      "test volume loaded with shape (256, 256, 256)\n"
     ]
    }
   ],
   "source": [
    "test_path = '../data/z-bin/battery/method_1/image_pred.npy'\n",
    "volume = np.load(test_path)\n",
    "print(f'test volume loaded with shape {volume.shape}')"
   ]
  },
  {
   "cell_type": "code",
   "execution_count": 46,
   "metadata": {},
   "outputs": [],
   "source": [
    "# Swap axes\n",
    "volume = np.swapaxes(volume, 0, 1)\n",
    "volume = np.swapaxes(volume, 0, 2) # shape: (256, 256, 256)\n",
    "\n",
    "# Invert projections\n",
    "volume = volume[::-1, :, :]\n",
    "\n",
    "# Rotate counterclockwise 90 degrees\n",
    "volume = np.rot90(volume, k=1, axes=(1, 2))\n",
    "\n",
    "# Flip along vertical axis\n",
    "volume = volume[:, :, ::-1]"
   ]
  },
  {
   "cell_type": "code",
   "execution_count": 47,
   "metadata": {},
   "outputs": [
    {
     "data": {
      "text/plain": [
       "[128, 128, 128]"
      ]
     },
     "execution_count": 47,
     "metadata": {},
     "output_type": "execute_result"
    }
   ],
   "source": [
    "center = [dim // 2 for dim in volume.shape] # center coordinates\n",
    "center"
   ]
  },
  {
   "cell_type": "code",
   "execution_count": 48,
   "metadata": {},
   "outputs": [
    {
     "data": {
      "text/plain": [
       "(256, 160, 160)"
      ]
     },
     "execution_count": 48,
     "metadata": {},
     "output_type": "execute_result"
    }
   ],
   "source": [
    "radius = 128\n",
    "angle = np.pi/4\n",
    "margin = 10\n",
    "\n",
    "side = 2 * radius * np.cos(angle)\n",
    "\n",
    "offset_depth = 128\n",
    "offset_height = int(side / 2)\n",
    "offset_width = int(side / 2)\n",
    "\n",
    "cropped_volume = volume[\n",
    "    center[0] - offset_depth: center[0] + offset_depth,\n",
    "    center[1] - offset_height + margin: center[1] + offset_height - margin,\n",
    "    center[2] - offset_width + margin: center[2] + offset_width - margin,\n",
    "]\n",
    "cropped_volume.shape"
   ]
  },
  {
   "cell_type": "markdown",
   "metadata": {},
   "source": [
    "Implement now metrics such as SNR and CNR."
   ]
  },
  {
   "cell_type": "code",
   "execution_count": 49,
   "metadata": {},
   "outputs": [],
   "source": [
    "def compute_snr_cnr(test_volume, gt_volume):\n",
    "    \"\"\"\n",
    "    Compute SNR and CNR for a given test volume and binary ground-truth volume.\n",
    "\n",
    "    Parameters:\n",
    "        test_volume (numpy.ndarray): 3D numpy array representing the test volume.\n",
    "        gt_volume (numpy.ndarray): 3D binary numpy array (1 for foreground, 0 for background).\n",
    "\n",
    "    Returns:\n",
    "        snr (float): Signal-to-Noise Ratio.\n",
    "        cnr (float): Contrast-to-Noise Ratio.\n",
    "    \"\"\"\n",
    "\n",
    "    # Check dimensions\n",
    "    if gt_volume.shape != test_volume.shape:\n",
    "        raise Exception('Error: test volume and ground truth must have same dimensions.')\n",
    "\n",
    "    # Extract the foreground and background regions based on gt_volume\n",
    "    foreground = test_volume[gt_volume == True]\n",
    "    background = test_volume[gt_volume == False]\n",
    "\n",
    "    # Compute the mean of the foreground (signal)\n",
    "    mu_i = np.mean(foreground)\n",
    "\n",
    "    # Compute the mean and standard deviation of the background (noise)\n",
    "    mu_b = np.mean(background)\n",
    "    sigma_b = np.std(background)\n",
    "\n",
    "    # Compute SNR (Signal-to-Noise Ratio)\n",
    "    if sigma_b == 0:\n",
    "        snr = np.inf  # Handle division by zero case\n",
    "    else:\n",
    "        snr = 20 * np.log10(mu_i / sigma_b)\n",
    "\n",
    "    # Compute CNR (Contrast-to-Noise Ratio)\n",
    "    if sigma_b == 0:\n",
    "        cnr = np.inf  # Handle division by zero case\n",
    "    else:\n",
    "        cnr = 20 * np.log10(np.abs(mu_i - mu_b) / sigma_b)\n",
    "\n",
    "    return {\n",
    "        'snr': snr,\n",
    "        'cnr': cnr\n",
    "    }"
   ]
  },
  {
   "cell_type": "code",
   "execution_count": 50,
   "metadata": {},
   "outputs": [
    {
     "data": {
      "text/plain": [
       "{'snr': 22.79435396194458, 'cnr': 16.999943256378174}"
      ]
     },
     "execution_count": 50,
     "metadata": {},
     "output_type": "execute_result"
    }
   ],
   "source": [
    "compute_snr_cnr(cropped_volume, binary_mask)"
   ]
  },
  {
   "cell_type": "markdown",
   "metadata": {},
   "source": [
    "OLD -- Experiment 1"
   ]
  },
  {
   "cell_type": "code",
   "execution_count": 16,
   "metadata": {},
   "outputs": [],
   "source": [
    "experiment_dir = '../data/battery/4_battery_clean_crops/'"
   ]
  },
  {
   "cell_type": "code",
   "execution_count": 21,
   "metadata": {},
   "outputs": [
    {
     "name": "stdout",
     "output_type": "stream",
     "text": [
      "6 volumes loaded.\n"
     ]
    }
   ],
   "source": [
    "exp_1_names = [\n",
    "    'exp_1/saxnerf/volume_180.npy',\n",
    "    'exp_1/saxnerf/volume_90.npy',\n",
    "    'exp_1/saxnerf/volume_45.npy',\n",
    "    'exp_1/r2gaus/volume_180.npy',\n",
    "    'exp_1/r2gaus/volume_90.npy',\n",
    "    'exp_1/r2gaus/volume_45.npy'\n",
    "]\n",
    "\n",
    "exp_2_names = [\n",
    "    'exp_2/saxnerf/volume_30_150.npy',\n",
    "    'exp_2/saxnerf/volume_45_135.npy',\n",
    "    'exp_2/saxnerf/volume_60_120.npy',\n",
    "    'exp_2/r2gaus/volume_30_150.npy',\n",
    "    'exp_2/r2gaus/volume_45_135.npy',\n",
    "    'exp_2/r2gaus/volume_60_120.npy',\n",
    "]\n",
    "\n",
    "# Set here the volumes you want to test\n",
    "volume_names = exp_2_names\n",
    "\n",
    "test_volumes = []\n",
    "for volume_name in volume_names:\n",
    "    volume = np.load(experiment_dir + volume_name)\n",
    "    test_volumes.append(volume)\n",
    "\n",
    "print(f'{len(test_volumes)} volumes loaded.')"
   ]
  },
  {
   "cell_type": "code",
   "execution_count": 22,
   "metadata": {},
   "outputs": [
    {
     "name": "stdout",
     "output_type": "stream",
     "text": [
      "+------- exp_2/saxnerf/volume_30_150.npy -------+\n",
      "SNR: 16.59 dB\n",
      "CNR: 10.57 dB\n",
      "\n",
      "+------- exp_2/saxnerf/volume_45_135.npy -------+\n",
      "SNR: 16.44 dB\n",
      "CNR: 9.69 dB\n",
      "\n",
      "+------- exp_2/saxnerf/volume_60_120.npy -------+\n",
      "SNR: 13.94 dB\n",
      "CNR: 7.04 dB\n",
      "\n",
      "+------- exp_2/r2gaus/volume_30_150.npy -------+\n",
      "SNR: 9.04 dB\n",
      "CNR: 1.68 dB\n",
      "\n",
      "+------- exp_2/r2gaus/volume_45_135.npy -------+\n",
      "SNR: 10.75 dB\n",
      "CNR: 3.77 dB\n",
      "\n",
      "+------- exp_2/r2gaus/volume_60_120.npy -------+\n",
      "SNR: 8.42 dB\n",
      "CNR: -0.82 dB\n",
      "\n"
     ]
    }
   ],
   "source": [
    "for id in range(len(volume_names)):\n",
    "    snr, cnr = compute_snr_cnr(test_volumes[id], gt_volume)\n",
    "    print(f'+------- {volume_names[id]} -------+')\n",
    "    print(f\"SNR: {snr:.2f} dB\")\n",
    "    print(f\"CNR: {cnr:.2f} dB\")\n",
    "    print()"
   ]
  },
  {
   "cell_type": "markdown",
   "metadata": {},
   "source": [
    "These are custom video-style metrics but we are lacking reference papers. "
   ]
  },
  {
   "cell_type": "code",
   "execution_count": 1,
   "metadata": {},
   "outputs": [],
   "source": [
    "import numpy as np\n",
    "from skimage.metrics import structural_similarity as ssim\n",
    "\n",
    "def frame_to_frame_difference(volume):\n",
    "    \"\"\"Compute the mean absolute difference between consecutive frames.\"\"\"\n",
    "    diffs = [np.abs(volume[i] - volume[i + 1]).mean() for i in range(len(volume) - 1)]\n",
    "    return np.mean(diffs)\n",
    "\n",
    "def frame_to_frame_mse(volume):\n",
    "    \"\"\"Compute the mean squared error between consecutive frames.\"\"\"\n",
    "    mses = [np.mean((volume[i] - volume[i + 1])**2) for i in range(len(volume) - 1)]\n",
    "    return np.mean(mses)\n",
    "\n",
    "def frame_to_frame_ssim(volume):\n",
    "    \"\"\"Compute the average SSIM between consecutive frames.\"\"\"\n",
    "    ssims = [\n",
    "        ssim(volume[i], volume[i + 1], data_range=volume[i + 1].max() - volume[i + 1].min())\n",
    "        for i in range(len(volume) - 1)\n",
    "    ]\n",
    "    return np.mean(ssims)\n",
    "\n",
    "def total_variation_time(volume):\n",
    "    \"\"\"Compute the total variation across consecutive frames.\"\"\"\n",
    "    tv = np.sum([np.abs(volume[i] - volume[i + 1]).sum() for i in range(len(volume) - 1)])\n",
    "    return tv\n"
   ]
  },
  {
   "cell_type": "code",
   "execution_count": 3,
   "metadata": {},
   "outputs": [
    {
     "name": "stdout",
     "output_type": "stream",
     "text": [
      "Frame-to-Frame Difference: 0.009967527\n",
      "Frame-to-Frame MSE: 0.0003783156\n",
      "Frame-to-Frame SSIM: 0.936653716523297\n",
      "Total Variation in Time: 166574.12\n"
     ]
    }
   ],
   "source": [
    "# Example usage with a 3D numpy volume\n",
    "path = '/home/dlboxadmin/Desktop/code-box/exploration/data/battery/4_battery_clean_crops/exp_3/r2gaus/50_random_projs.npy'\n",
    "\n",
    "volume = np.load(path)  # Replace this with your actual reconstructed volume\n",
    "\n",
    "print(\"Frame-to-Frame Difference:\", frame_to_frame_difference(volume))\n",
    "print(\"Frame-to-Frame MSE:\", frame_to_frame_mse(volume))\n",
    "print(\"Frame-to-Frame SSIM:\", frame_to_frame_ssim(volume))\n",
    "print(\"Total Variation in Time:\", total_variation_time(volume))\n"
   ]
  },
  {
   "cell_type": "markdown",
   "metadata": {},
   "source": [
    "## PSNR and SSIM (with GT)"
   ]
  },
  {
   "cell_type": "code",
   "execution_count": 4,
   "metadata": {},
   "outputs": [],
   "source": [
    "import numpy as np\n",
    "import torch\n",
    "from skimage.metrics import peak_signal_noise_ratio\n",
    "from skimage.metrics import structural_similarity as ssim\n",
    "\n",
    "def compute_psnr(prediction, reference):\n",
    "    \"\"\"\n",
    "    Computes the Peak Signal-to-Noise Ratio (PSNR) between two 3D volumes.\n",
    "    \n",
    "    :param prediction: NumPy array representing the predicted volume.\n",
    "    :param reference: NumPy array representing the reference (ground truth) volume.\n",
    "    :return: PSNR value in dB.\n",
    "    \"\"\"\n",
    "    return peak_signal_noise_ratio(reference, prediction, data_range=reference.max() - reference.min())\n",
    "\n",
    "import numpy as np\n",
    "import torch\n",
    "from skimage.metrics import structural_similarity as ssim\n",
    "\n",
    "def compute_ssim(arr1, arr2, size_average=True):\n",
    "    \"\"\"\n",
    "    Compute 3D SSIM by averaging SSIM along depth, height, and width dimensions.\n",
    "\n",
    "    :param arr1: [NDHW] NumPy array or PyTorch tensor (normalized between 0 and 1).\n",
    "    :param arr2: [NDHW] NumPy array or PyTorch tensor.\n",
    "    :param size_average: If True, return the mean SSIM across all batches, else return per-batch SSIM.\n",
    "    :return: Scalar SSIM value or array of SSIM values per batch.\n",
    "    \"\"\"\n",
    "    # Convert PyTorch tensors to NumPy if necessary\n",
    "    if torch.is_tensor(arr1):\n",
    "        arr1 = arr1.cpu().detach().numpy()\n",
    "    if torch.is_tensor(arr2):\n",
    "        arr2 = arr2.cpu().detach().numpy()\n",
    "\n",
    "    assert arr1.shape == arr2.shape, \"Input arrays must have the same shape!\"\n",
    "    arr1 = arr1.astype(np.float64)\n",
    "    arr2 = arr2.astype(np.float64)\n",
    "\n",
    "    # Add batch dimension\n",
    "    arr1 = arr1[np.newaxis, ...]\n",
    "    arr2= arr2[np.newaxis, ...]\n",
    "\n",
    "    # Compute data_range dynamically\n",
    "    data_range = arr1.max() - arr1.min()\n",
    "\n",
    "    N = arr1.shape[0]\n",
    "\n",
    "    # Compute SSIM along Depth (D)\n",
    "    arr1_d = np.transpose(arr1, (0, 2, 3, 1))\n",
    "    arr2_d = np.transpose(arr2, (0, 2, 3, 1))\n",
    "    ssim_d = [ssim(arr1_d[i], arr2_d[i], data_range=data_range) for i in range(N)]\n",
    "    \n",
    "    # Compute SSIM along Height (H)\n",
    "    arr1_h = np.transpose(arr1, (0, 1, 3, 2))\n",
    "    arr2_h = np.transpose(arr2, (0, 1, 3, 2))\n",
    "    ssim_h = [ssim(arr1_h[i], arr2_h[i], data_range=data_range) for i in range(N)]\n",
    "    \n",
    "    # Compute SSIM along Width (W)\n",
    "    ssim_w = [ssim(arr1[i], arr2[i], data_range=data_range) for i in range(N)]\n",
    "\n",
    "    # Convert lists to NumPy arrays\n",
    "    ssim_d = np.asarray(ssim_d, dtype=np.float64)\n",
    "    ssim_h = np.asarray(ssim_h, dtype=np.float64)\n",
    "    ssim_w = np.asarray(ssim_w, dtype=np.float64)\n",
    "\n",
    "    # Compute final SSIM as the mean of three orientations\n",
    "    ssim_avg = (ssim_d + ssim_h + ssim_w) / 3\n",
    "\n",
    "    return ssim_avg.mean() if size_average else ssim_avg\n",
    "\n"
   ]
  },
  {
   "cell_type": "code",
   "execution_count": 6,
   "metadata": {},
   "outputs": [
    {
     "name": "stdout",
     "output_type": "stream",
     "text": [
      "PSNR: 5.98 dB\n",
      "SSIM: 0.3159\n"
     ]
    }
   ],
   "source": [
    "volume_gt = np.load('../data/z-bin/chest/image_gt.npy')\n",
    "volume_pred = np.load('../data/z-bin/chest/exp_1/method_2/image_pred_exp.npy')\n",
    "\n",
    "psnr_value = compute_psnr(volume_pred, volume_gt)\n",
    "ssim_value = compute_ssim(volume_pred, volume_gt)\n",
    "\n",
    "print(f\"PSNR: {psnr_value:.2f} dB\")\n",
    "print(f\"SSIM: {ssim_value:.4f}\")\n"
   ]
  }
 ],
 "metadata": {
  "kernelspec": {
   "display_name": "nerf",
   "language": "python",
   "name": "python3"
  },
  "language_info": {
   "codemirror_mode": {
    "name": "ipython",
    "version": 3
   },
   "file_extension": ".py",
   "mimetype": "text/x-python",
   "name": "python",
   "nbconvert_exporter": "python",
   "pygments_lexer": "ipython3",
   "version": "3.8.0"
  }
 },
 "nbformat": 4,
 "nbformat_minor": 2
}
